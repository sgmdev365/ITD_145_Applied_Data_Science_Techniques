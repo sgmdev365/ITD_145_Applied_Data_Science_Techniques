{
 "cells": [
  {
   "cell_type": "markdown",
   "id": "bdf0f007",
   "metadata": {},
   "source": [
    "- Tips for getting the most out of the course:\n",
    "1. Consider your learning pace, as it varies for different individuals.\n",
    "2. Emphasize the importance of practice, including quizzes, exercises, and following along with topics.\n",
    "3. Acknowledge the challenge of completing a course and suggest starting small but being consistent with daily time commitments.\n",
    "4. Highlight the enjoyment of learning and its positive impact on understanding complex topics.\n",
    "5. Stress the importance of clarity on why you are taking the course, whether for a career change, data science, skill improvement, or other reasons.\n",
    "6. Encourage revisiting your motivation during moments of low motivation to stay focused.\n",
    "7. Emphasize the long-term benefits of expanding knowledge for personal and career advancement.\n",
    "8. Conclude by expressing motivation and transitioning into the study of statistics."
   ]
  },
  {
   "cell_type": "markdown",
   "id": "231977eb",
   "metadata": {},
   "source": [
    "## Descriptive Statistics"
   ]
  },
  {
   "cell_type": "markdown",
   "id": "9ef57a0e",
   "metadata": {},
   "source": [
    "- Descriptive Statistics involves using measures to describe key features of data.\n",
    "- The example given is a dataset with around 1000 records of people's heights.\n",
    "|Height (in cm)|\n",
    "|--------------|\n",
    "|171           |\n",
    "|171           |\n",
    "|164           |\n",
    "|175           |\n",
    "|171           |\n",
    "|168           |\n",
    "|170           |\n"
   ]
  },
  {
   "cell_type": "markdown",
   "id": "4df1f637",
   "metadata": {},
   "source": [
    "## What is a typical height?\n",
    "    - The average height can be calculated.\n",
    "    - What is the most common value?"
   ]
  },
  {
   "cell_type": "code",
   "execution_count": 5,
   "id": "0b77908e",
   "metadata": {},
   "outputs": [
    {
     "name": "stdout",
     "output_type": "stream",
     "text": [
      "Mean / Average is: 170.0\n"
     ]
    }
   ],
   "source": [
    "# Findding the Mean, Median, Mode\n",
    "# The mean is the average of all numbers. This code calculates Mean or Average of a list containing numbers: \n",
    "\n",
    "n_num = [171,171,164,175,171,168,170]\n",
    "n = len(n_num)\n",
    "\n",
    "get_sum = sum(n_num)\n",
    "mean = get_sum / n\n",
    "\n",
    "print(\"Mean / Average is: \" + str(mean))"
   ]
  },
  {
   "cell_type": "code",
   "execution_count": null,
   "id": "5f2c4b1f",
   "metadata": {},
   "outputs": [],
   "source": []
  }
 ],
 "metadata": {
  "kernelspec": {
   "display_name": "Python 3 (ipykernel)",
   "language": "python",
   "name": "python3"
  },
  "language_info": {
   "codemirror_mode": {
    "name": "ipython",
    "version": 3
   },
   "file_extension": ".py",
   "mimetype": "text/x-python",
   "name": "python",
   "nbconvert_exporter": "python",
   "pygments_lexer": "ipython3",
   "version": "3.11.5"
  }
 },
 "nbformat": 4,
 "nbformat_minor": 5
}
