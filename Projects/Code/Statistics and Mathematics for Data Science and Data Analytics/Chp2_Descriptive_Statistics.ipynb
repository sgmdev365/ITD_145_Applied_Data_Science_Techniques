{
 "cells": [
  {
   "cell_type": "code",
   "execution_count": 2,
   "id": "723459d8",
   "metadata": {},
   "outputs": [],
   "source": [
    "import numpy as np"
   ]
  },
  {
   "cell_type": "markdown",
   "id": "bdf0f007",
   "metadata": {},
   "source": [
    "- Tips for getting the most out of the course:\n",
    "1. Consider your learning pace, as it varies for different individuals.\n",
    "2. Emphasize the importance of practice, including quizzes, exercises, and following along with topics.\n",
    "3. Acknowledge the challenge of completing a course and suggest starting small but being consistent with daily time commitments.\n",
    "4. Highlight the enjoyment of learning and its positive impact on understanding complex topics.\n",
    "5. Stress the importance of clarity on why you are taking the course, whether for a career change, data science, skill improvement, or other reasons.\n",
    "6. Encourage revisiting your motivation during moments of low motivation to stay focused.\n",
    "7. Emphasize the long-term benefits of expanding knowledge for personal and career advancement.\n",
    "8. Conclude by expressing motivation and transitioning into the study of statistics."
   ]
  },
  {
   "cell_type": "markdown",
   "id": "231977eb",
   "metadata": {},
   "source": [
    "## Descriptive Statistics"
   ]
  },
  {
   "cell_type": "markdown",
   "id": "9ef57a0e",
   "metadata": {},
   "source": [
    "- Descriptive Statistics involves using measures to describe key features of data.\n",
    "- The example given is a dataset with around 1000 records of people's heights.\n",
    "|Height (in cm)|\n",
    "|--------------|\n",
    "|171           |\n",
    "|171           |\n",
    "|164           |\n",
    "|175           |\n",
    "|171           |\n",
    "|168           |\n",
    "|170           |\n"
   ]
  },
  {
   "cell_type": "markdown",
   "id": "4df1f637",
   "metadata": {},
   "source": [
    "## What is a typical height?\n",
    "    - The average height can be calculated.\n",
    "    - What is the most common value?"
   ]
  },
  {
   "cell_type": "code",
   "execution_count": 1,
   "id": "0b77908e",
   "metadata": {},
   "outputs": [
    {
     "name": "stdout",
     "output_type": "stream",
     "text": [
      "Mean / Average is: 170.0\n"
     ]
    }
   ],
   "source": [
    "# Findding the Mean, Median, Mode\n",
    "# The mean is the average of all numbers. This code calculates Mean or Average of a list containing numbers: \n",
    "\n",
    "n_num = [171,171,164,175,171,168,170]\n",
    "n = len(n_num)\n",
    "\n",
    "get_sum = sum(n_num)\n",
    "mean = get_sum / n\n",
    "\n",
    "print(\"Mean / Average is: \" + str(mean))"
   ]
  },
  {
   "cell_type": "markdown",
   "id": "f720497b",
   "metadata": {},
   "source": [
    "# How to find the mean?\n",
    "\n",
    "- Arrange the numbers in order from least to greatest.\n",
    "    - Example: (1,3,2,6,7)\n",
    "    - In order: (1,2,3,6,7)\n",
    "    - The middle numbe is \"3\"\n",
    " \n",
    "- If the numbers are not even.. the two middle numbers must be added and then divided.\n",
    "    - Exmaple: (1,1,2,3,6,7,8,9)\n",
    "    - The muddle numbes (3 and 6)\n",
    "    - Add both (9) then divide by 2 which equals 4.5"
   ]
  },
  {
   "cell_type": "code",
   "execution_count": 8,
   "id": "2f0c15ea",
   "metadata": {},
   "outputs": [
    {
     "data": {
      "text/plain": [
       "7.0"
      ]
     },
     "execution_count": 8,
     "metadata": {},
     "output_type": "execute_result"
    }
   ],
   "source": [
    "n = [5,8,7,2,9]\n",
    "np.median(n)"
   ]
  },
  {
   "cell_type": "code",
   "execution_count": 9,
   "id": "dce619ba",
   "metadata": {},
   "outputs": [
    {
     "name": "stdout",
     "output_type": "stream",
     "text": [
      "[2 5 7 8 9]\n"
     ]
    }
   ],
   "source": [
    "n_sorted=np.sort(n)\n",
    "print(n_sorted)"
   ]
  },
  {
   "cell_type": "code",
   "execution_count": 10,
   "id": "71d1f042",
   "metadata": {},
   "outputs": [
    {
     "name": "stdout",
     "output_type": "stream",
     "text": [
      "5\n"
     ]
    }
   ],
   "source": [
    "length=len(n)\n",
    "print(length)"
   ]
  },
  {
   "cell_type": "code",
   "execution_count": 11,
   "id": "b25a4074",
   "metadata": {},
   "outputs": [
    {
     "data": {
      "text/plain": [
       "2"
      ]
     },
     "execution_count": 11,
     "metadata": {},
     "output_type": "execute_result"
    }
   ],
   "source": [
    "length//2"
   ]
  },
  {
   "cell_type": "code",
   "execution_count": 12,
   "id": "09386230",
   "metadata": {},
   "outputs": [
    {
     "data": {
      "text/plain": [
       "7"
      ]
     },
     "execution_count": 12,
     "metadata": {},
     "output_type": "execute_result"
    }
   ],
   "source": [
    "n_sorted[length//2]"
   ]
  },
  {
   "cell_type": "code",
   "execution_count": 13,
   "id": "9a8d040d",
   "metadata": {},
   "outputs": [
    {
     "data": {
      "text/plain": [
       "5"
      ]
     },
     "execution_count": 13,
     "metadata": {},
     "output_type": "execute_result"
    }
   ],
   "source": [
    "n[0]"
   ]
  },
  {
   "cell_type": "code",
   "execution_count": 14,
   "id": "34e8a848",
   "metadata": {},
   "outputs": [
    {
     "data": {
      "text/plain": [
       "7"
      ]
     },
     "execution_count": 14,
     "metadata": {},
     "output_type": "execute_result"
    }
   ],
   "source": [
    "n[2]"
   ]
  },
  {
   "cell_type": "code",
   "execution_count": 17,
   "id": "5eea2f1d",
   "metadata": {},
   "outputs": [
    {
     "data": {
      "text/plain": [
       "array([ 5, 10,  6,  5,  7, 14,  4,  0,  6])"
      ]
     },
     "execution_count": 17,
     "metadata": {},
     "output_type": "execute_result"
    }
   ],
   "source": [
    "n=np.random.randint(0,15,9)\n",
    "n"
   ]
  },
  {
   "cell_type": "code",
   "execution_count": 18,
   "id": "a74c47b0",
   "metadata": {},
   "outputs": [
    {
     "data": {
      "text/plain": [
       "array([ 0,  4,  5,  5,  6,  6,  7, 10, 14])"
      ]
     },
     "execution_count": 18,
     "metadata": {},
     "output_type": "execute_result"
    }
   ],
   "source": [
    "n_sorted=np.sort(n)\n",
    "n_sorted"
   ]
  },
  {
   "cell_type": "code",
   "execution_count": 19,
   "id": "bbdee23a",
   "metadata": {},
   "outputs": [
    {
     "data": {
      "text/plain": [
       "6.0"
      ]
     },
     "execution_count": 19,
     "metadata": {},
     "output_type": "execute_result"
    }
   ],
   "source": [
    "np.median(n)"
   ]
  },
  {
   "cell_type": "code",
   "execution_count": 21,
   "id": "084feeb3",
   "metadata": {},
   "outputs": [
    {
     "data": {
      "text/plain": [
       "4"
      ]
     },
     "execution_count": 21,
     "metadata": {},
     "output_type": "execute_result"
    }
   ],
   "source": [
    "len(n)//2"
   ]
  },
  {
   "cell_type": "code",
   "execution_count": 20,
   "id": "c379d8e9",
   "metadata": {},
   "outputs": [
    {
     "data": {
      "text/plain": [
       "6"
      ]
     },
     "execution_count": 20,
     "metadata": {},
     "output_type": "execute_result"
    }
   ],
   "source": [
    "n_sorted[len(n)//2]"
   ]
  },
  {
   "cell_type": "code",
   "execution_count": 23,
   "id": "98820ddf",
   "metadata": {},
   "outputs": [
    {
     "data": {
      "text/plain": [
       "5"
      ]
     },
     "execution_count": 23,
     "metadata": {},
     "output_type": "execute_result"
    }
   ],
   "source": [
    "11//2"
   ]
  },
  {
   "cell_type": "code",
   "execution_count": 24,
   "id": "a65f63a1",
   "metadata": {},
   "outputs": [
    {
     "data": {
      "text/plain": [
       "13"
      ]
     },
     "execution_count": 24,
     "metadata": {},
     "output_type": "execute_result"
    }
   ],
   "source": [
    "27//2"
   ]
  },
  {
   "cell_type": "code",
   "execution_count": 26,
   "id": "a79d0b45",
   "metadata": {},
   "outputs": [
    {
     "data": {
      "text/plain": [
       "array([14,  1, 15, 14, 11,  1, 17, 18,  2, 15])"
      ]
     },
     "execution_count": 26,
     "metadata": {},
     "output_type": "execute_result"
    }
   ],
   "source": [
    "n=np.random.randint(0,20,10)\n",
    "n"
   ]
  },
  {
   "cell_type": "code",
   "execution_count": 27,
   "id": "b68ee377",
   "metadata": {},
   "outputs": [
    {
     "data": {
      "text/plain": [
       "array([ 1,  1,  2, 11, 14, 14, 15, 15, 17, 18])"
      ]
     },
     "execution_count": 27,
     "metadata": {},
     "output_type": "execute_result"
    }
   ],
   "source": [
    "n_sorted=np.sort(n)\n",
    "n_sorted"
   ]
  },
  {
   "cell_type": "code",
   "execution_count": 29,
   "id": "385f0ecc",
   "metadata": {},
   "outputs": [
    {
     "data": {
      "text/plain": [
       "14.0"
      ]
     },
     "execution_count": 29,
     "metadata": {},
     "output_type": "execute_result"
    }
   ],
   "source": [
    "np.median(n)"
   ]
  },
  {
   "cell_type": "code",
   "execution_count": 31,
   "id": "7ecb2bd5",
   "metadata": {},
   "outputs": [
    {
     "data": {
      "text/plain": [
       "5"
      ]
     },
     "execution_count": 31,
     "metadata": {},
     "output_type": "execute_result"
    }
   ],
   "source": [
    "middle=len(n)//2\n",
    "middle"
   ]
  },
  {
   "cell_type": "code",
   "execution_count": 32,
   "id": "51bf1165",
   "metadata": {},
   "outputs": [
    {
     "data": {
      "text/plain": [
       "14.0"
      ]
     },
     "execution_count": 32,
     "metadata": {},
     "output_type": "execute_result"
    }
   ],
   "source": [
    "(n_sorted[middle-1]+n_sorted[middle])/2"
   ]
  },
  {
   "cell_type": "code",
   "execution_count": 36,
   "id": "9bffd3d4",
   "metadata": {},
   "outputs": [],
   "source": [
    "def mymedianfunction(n):\n",
    "    length=len(n)\n",
    "    n_sorted=np.sort(n)\n",
    "    middle=len(n)//2\n",
    "    if length%2==0:\n",
    "        \n",
    "        m=(n_sorted[middle-1]+n_sorted[middle])/2\n",
    "    else:\n",
    "        m=n_sorted[middle]\n",
    "    \n",
    "    return m"
   ]
  },
  {
   "cell_type": "code",
   "execution_count": 39,
   "id": "238bd0dc",
   "metadata": {},
   "outputs": [
    {
     "data": {
      "text/plain": [
       "(7, 7.0)"
      ]
     },
     "execution_count": 39,
     "metadata": {},
     "output_type": "execute_result"
    }
   ],
   "source": [
    "n=[5,8,7,2,9]\n",
    "mymedianfunction(n),np.median(n)"
   ]
  },
  {
   "cell_type": "code",
   "execution_count": 40,
   "id": "b6bd3f65",
   "metadata": {},
   "outputs": [
    {
     "data": {
      "text/plain": [
       "(7.5, 7.5)"
      ]
     },
     "execution_count": 40,
     "metadata": {},
     "output_type": "execute_result"
    }
   ],
   "source": [
    "n=[5,8,7,2,9,8]\n",
    "mymedianfunction(n),np.median(n)"
   ]
  },
  {
   "cell_type": "code",
   "execution_count": 41,
   "id": "4d9adba4",
   "metadata": {},
   "outputs": [
    {
     "data": {
      "text/plain": [
       "1"
      ]
     },
     "execution_count": 41,
     "metadata": {},
     "output_type": "execute_result"
    }
   ],
   "source": [
    "3%2"
   ]
  },
  {
   "cell_type": "code",
   "execution_count": 42,
   "id": "6ddc8368",
   "metadata": {},
   "outputs": [
    {
     "data": {
      "text/plain": [
       "1"
      ]
     },
     "execution_count": 42,
     "metadata": {},
     "output_type": "execute_result"
    }
   ],
   "source": [
    "5%2"
   ]
  },
  {
   "cell_type": "code",
   "execution_count": 43,
   "id": "2d1df69f",
   "metadata": {},
   "outputs": [
    {
     "data": {
      "text/plain": [
       "0"
      ]
     },
     "execution_count": 43,
     "metadata": {},
     "output_type": "execute_result"
    }
   ],
   "source": [
    "6%2"
   ]
  },
  {
   "cell_type": "code",
   "execution_count": null,
   "id": "67027692",
   "metadata": {},
   "outputs": [],
   "source": []
  }
 ],
 "metadata": {
  "kernelspec": {
   "display_name": "Python 3 (ipykernel)",
   "language": "python",
   "name": "python3"
  },
  "language_info": {
   "codemirror_mode": {
    "name": "ipython",
    "version": 3
   },
   "file_extension": ".py",
   "mimetype": "text/x-python",
   "name": "python",
   "nbconvert_exporter": "python",
   "pygments_lexer": "ipython3",
   "version": "3.11.5"
  }
 },
 "nbformat": 4,
 "nbformat_minor": 5
}
